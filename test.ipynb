{
 "metadata": {
  "language_info": {
   "codemirror_mode": {
    "name": "ipython",
    "version": 3
   },
   "file_extension": ".py",
   "mimetype": "text/x-python",
   "name": "python",
   "nbconvert_exporter": "python",
   "pygments_lexer": "ipython3",
   "version": "3.9.2-final"
  },
  "orig_nbformat": 2,
  "kernelspec": {
   "name": "python3",
   "display_name": "Python 3",
   "language": "python"
  }
 },
 "nbformat": 4,
 "nbformat_minor": 2,
 "cells": [
  {
   "cell_type": "code",
   "execution_count": 7,
   "metadata": {},
   "outputs": [],
   "source": [
    "import pandas as pd \n",
    "import numpy as np\n",
    "from collections import defaultdict\n",
    "import pprint"
   ]
  },
  {
   "cell_type": "code",
   "execution_count": 8,
   "metadata": {},
   "outputs": [
    {
     "output_type": "execute_result",
     "data": {
      "text/plain": [
       "         part1 part2 part3\n",
       "unitcode                  \n",
       "unit1     7F01   NaN   NaN\n",
       "unit1     7F02   NaN   NaN\n",
       "unit2     7G01  7G01  7G01\n",
       "unit2      NaN  7G02   NaN\n",
       "unit2      NaN  7G04   NaN\n",
       "unit3     7J01  7J01   NaN\n",
       "unit3     7J02   NaN   NaN"
      ],
      "text/html": "<div>\n<style scoped>\n    .dataframe tbody tr th:only-of-type {\n        vertical-align: middle;\n    }\n\n    .dataframe tbody tr th {\n        vertical-align: top;\n    }\n\n    .dataframe thead th {\n        text-align: right;\n    }\n</style>\n<table border=\"1\" class=\"dataframe\">\n  <thead>\n    <tr style=\"text-align: right;\">\n      <th></th>\n      <th>part1</th>\n      <th>part2</th>\n      <th>part3</th>\n    </tr>\n    <tr>\n      <th>unitcode</th>\n      <th></th>\n      <th></th>\n      <th></th>\n    </tr>\n  </thead>\n  <tbody>\n    <tr>\n      <th>unit1</th>\n      <td>7F01</td>\n      <td>NaN</td>\n      <td>NaN</td>\n    </tr>\n    <tr>\n      <th>unit1</th>\n      <td>7F02</td>\n      <td>NaN</td>\n      <td>NaN</td>\n    </tr>\n    <tr>\n      <th>unit2</th>\n      <td>7G01</td>\n      <td>7G01</td>\n      <td>7G01</td>\n    </tr>\n    <tr>\n      <th>unit2</th>\n      <td>NaN</td>\n      <td>7G02</td>\n      <td>NaN</td>\n    </tr>\n    <tr>\n      <th>unit2</th>\n      <td>NaN</td>\n      <td>7G04</td>\n      <td>NaN</td>\n    </tr>\n    <tr>\n      <th>unit3</th>\n      <td>7J01</td>\n      <td>7J01</td>\n      <td>NaN</td>\n    </tr>\n    <tr>\n      <th>unit3</th>\n      <td>7J02</td>\n      <td>NaN</td>\n      <td>NaN</td>\n    </tr>\n  </tbody>\n</table>\n</div>"
     },
     "metadata": {},
     "execution_count": 8
    }
   ],
   "source": [
    "df = pd.read_csv(\"test.csv\")\n",
    "df.head()\n",
    "\n",
    "def createDict(df):\n",
    "    '''\n",
    "    { unitcode1: [{part1 : [code1, code2, code3]},\n",
    "                  {part2 : [code4, code5]}\n",
    "                  ],\n",
    "      unitcode2: [{part1 : [code1, code2, code3]},\n",
    "                  {part2 : [code4, code5]},\n",
    "                  ], \n",
    "    }\n",
    "    '''\n",
    "    grouped = df.groupby(by=[\"unitcode\",\"parts\"])\n",
    "    unitcodeParts = defaultdict(list)\n",
    "    for u in df[\"unitcode\"].unique():\n",
    "        #unitcode毎に部品種別とGコードのdictを初期化    \n",
    "        partsGcode = defaultdict(list)\n",
    "        for p in df[df[\"unitcode\"]==u][\"parts\"].unique():\n",
    "            gcode = sorted(list(set(grouped.get_group((u, p))[\"code\"].values)))\n",
    "            partsGcode[p] = gcode\n",
    "        unitcodeParts[u] = partsGcode\n",
    "    return unitcodeParts\n",
    "\n",
    "def createDataFrame(data):\n",
    "    df = pd.DataFrame()\n",
    "    for u in data.keys():\n",
    "        temp_df = pd.DataFrame()\n",
    "        for p in data[u].keys():\n",
    "            parts_df = pd.DataFrame(columns=[p],data=data[u][p])\n",
    "            temp_df = parts_df.copy() if temp_df.empty \\\n",
    "                else pd.merge(temp_df, parts_df, left_index=True, right_index=True, how=\"outer\")\n",
    "        temp_df[\"unitcode\"] = [u]*len(temp_df)\n",
    "        temp_df.set_index(\"unitcode\", inplace=True)\n",
    "        df = pd.concat([df, temp_df])\n",
    "    return df\n",
    "\n",
    "data = createDict(df)\n",
    "\n",
    "createDataFrame(data)"
   ]
  },
  {
   "cell_type": "code",
   "execution_count": null,
   "metadata": {},
   "outputs": [],
   "source": []
  }
 ]
}
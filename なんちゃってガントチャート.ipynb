{
 "metadata": {
  "language_info": {
   "codemirror_mode": {
    "name": "ipython",
    "version": 3
   },
   "file_extension": ".py",
   "mimetype": "text/x-python",
   "name": "python",
   "nbconvert_exporter": "python",
   "pygments_lexer": "ipython3",
   "version": "3.9.2-final"
  },
  "orig_nbformat": 2,
  "kernelspec": {
   "name": "python3",
   "display_name": "Python 3.9.2 64-bit ('env': venv)",
   "metadata": {
    "interpreter": {
     "hash": "9b7a46cd85e440404f8751446e882f31757721d684888b8f19340141732186af"
    }
   }
  }
 },
 "nbformat": 4,
 "nbformat_minor": 2,
 "cells": [
  {
   "cell_type": "code",
   "execution_count": 1,
   "metadata": {},
   "outputs": [],
   "source": [
    "import pandas as pd\n",
    "pd.options.display.max_columns = None\n",
    "oriData = pd.read_csv(\"inspection.csv\", encoding=\"utf-8_sig\", dtype = 'object')\n",
    "grouped = oriData.groupby(by=[\"unitid\"])"
   ]
  },
  {
   "cell_type": "code",
   "execution_count": 3,
   "metadata": {},
   "outputs": [
    {
     "output_type": "execute_result",
     "data": {
      "text/plain": [
       "           プラントA プラントB プラントC プラントD\n",
       "2021-04-01     C   NaN   NaN   NaN\n",
       "2021-04-02     C   NaN   NaN   NaN\n",
       "2021-04-03     C   NaN   NaN   NaN\n",
       "2021-04-04     C   NaN   NaN   NaN\n",
       "2021-04-05     C   NaN   NaN   NaN"
      ],
      "text/html": "<div>\n<style scoped>\n    .dataframe tbody tr th:only-of-type {\n        vertical-align: middle;\n    }\n\n    .dataframe tbody tr th {\n        vertical-align: top;\n    }\n\n    .dataframe thead th {\n        text-align: right;\n    }\n</style>\n<table border=\"1\" class=\"dataframe\">\n  <thead>\n    <tr style=\"text-align: right;\">\n      <th></th>\n      <th>プラントA</th>\n      <th>プラントB</th>\n      <th>プラントC</th>\n      <th>プラントD</th>\n    </tr>\n  </thead>\n  <tbody>\n    <tr>\n      <th>2021-04-01</th>\n      <td>C</td>\n      <td>NaN</td>\n      <td>NaN</td>\n      <td>NaN</td>\n    </tr>\n    <tr>\n      <th>2021-04-02</th>\n      <td>C</td>\n      <td>NaN</td>\n      <td>NaN</td>\n      <td>NaN</td>\n    </tr>\n    <tr>\n      <th>2021-04-03</th>\n      <td>C</td>\n      <td>NaN</td>\n      <td>NaN</td>\n      <td>NaN</td>\n    </tr>\n    <tr>\n      <th>2021-04-04</th>\n      <td>C</td>\n      <td>NaN</td>\n      <td>NaN</td>\n      <td>NaN</td>\n    </tr>\n    <tr>\n      <th>2021-04-05</th>\n      <td>C</td>\n      <td>NaN</td>\n      <td>NaN</td>\n      <td>NaN</td>\n    </tr>\n  </tbody>\n</table>\n</div>"
     },
     "metadata": {},
     "execution_count": 3
    }
   ],
   "source": [
    "grouped = oriData.groupby(by=[\"unitid\"])\n",
    "df = pd.DataFrame()\n",
    "for name, val in grouped:\n",
    "    ins_df = pd.DataFrame()\n",
    "    for i, v in val.iterrows():\n",
    "        index = pd.date_range(v[\"startdate\"], v[\"enddate\"])\n",
    "        data = list(v[3]) * len(index)\n",
    "        ins_df = pd.concat([ins_df,\n",
    "                            pd.DataFrame(data=data, index=index, columns=[name])],\n",
    "                            axis=0)\n",
    "    df = pd.merge(df, ins_df, left_index=True, right_index=True, how=\"outer\")\n",
    "df.head()"
   ]
  },
  {
   "cell_type": "code",
   "execution_count": 7,
   "metadata": {},
   "outputs": [
    {
     "output_type": "execute_result",
     "data": {
      "text/plain": [
       "      2021                                                                    \\\n",
       "         4                                                                     \n",
       "        1  2  3  4  5  6  7  8  9  10 11 12 13 14 15 16 17 18 19 20 21 22 23   \n",
       "プラントA    C  C  C  C  C  C  C  C  C  C                                          \n",
       "プラントB                                  T  T  T  T  T  T  T  T  T  T  T  T  T   \n",
       "プラントC                                                                          \n",
       "プラントD                                              M  M  M  M  M  M  M  M  M   \n",
       "\n",
       "                                                                               \\\n",
       "                            5                                                   \n",
       "      24 25 26 27 28 29 30 1  2  3  4  5  6  7  8  9  10 11 12 13 14 15 16 17   \n",
       "プラントA                                                                 T  T  T   \n",
       "プラントB  T  T  T  T  T  T                                                         \n",
       "プラントC                                                                           \n",
       "プラントD  M  M  M  M  M  M  M  M  M  M  M  M  M  M  M  M  M  M  M  M  M  M  M  M   \n",
       "\n",
       "                                                                               \\\n",
       "                                                 6                              \n",
       "      18 19 20 21 22 23 24 25 26 27 28 29 30 31 1  2  3  4  5  6  7  8  9  10   \n",
       "プラントA  T  T  T  T  T  T  T  T  T  T  T  T  T  T  T                              \n",
       "プラントB           C  C  C  C  C  C  C  C  C  C  C  C  C  C  C  C  C  C  C  C  C   \n",
       "プラントC                                                                           \n",
       "プラントD  M  M  M  M  M  M  M  M  M  M  M  M  M  M  M  M  M  M  M  M  M  M  M  M   \n",
       "\n",
       "                                                                               \\\n",
       "                                                                   7            \n",
       "      11 12 13 14 15 16 17 18 19 20 21 22 23 24 25 26 27 28 29 30 1  2  3  4    \n",
       "プラントA                                                              M  M  M  M   \n",
       "プラントB                                                                           \n",
       "プラントC              T  T  T  T  T  T  T  T  T  T  T  T  T  T  T  T               \n",
       "プラントD  M  M  M  M  M  M  M  M  M  M                                T  T  T  T   \n",
       "\n",
       "                                                                               \\\n",
       "                                                                                \n",
       "      5  6  7  8  9  10 11 12 13 14 15 16 17 18 19 20 21 22 23 24 25 26 27 28   \n",
       "プラントA  M  M  M  M  M  M  M  M  M  M  M  M  M  M  M  M  M  M  M  M  M  M  M  M   \n",
       "プラントB                 M  M  M  M  M  M  M  M  M  M  M  M  M  M  M  M  M  M  M   \n",
       "プラントC                                                                           \n",
       "プラントD  T  T  T  T  T  T  T  T  T  T  T  T  T  T  T  T  T  T  T  T  T  T  T  T   \n",
       "\n",
       "                                                                               \\\n",
       "                8                                                               \n",
       "      29 30 31 1  2  3  4  5  6  7  8  9  10 11 12 13 14 15 16 17 18 19 20 21   \n",
       "プラントA  M  M                                                                     \n",
       "プラントB  M  M  M  M  M  M  M  M  M  M  M  M  M                             M  M   \n",
       "プラントC           C  C  C  C  C  C  C  C  C  C                                    \n",
       "プラントD  T  T  T  T  T  T  T  T  T  T  T  T  T                                    \n",
       "\n",
       "                                  \n",
       "                                  \n",
       "      22 23 24 25 26 27 28 29 30  \n",
       "プラントA                             \n",
       "プラントB  M  M  M  M  M  M  M  M  M  \n",
       "プラントC                             \n",
       "プラントD                             "
      ],
      "text/html": "<div>\n<style scoped>\n    .dataframe tbody tr th:only-of-type {\n        vertical-align: middle;\n    }\n\n    .dataframe tbody tr th {\n        vertical-align: top;\n    }\n\n    .dataframe thead tr th {\n        text-align: left;\n    }\n</style>\n<table border=\"1\" class=\"dataframe\">\n  <thead>\n    <tr>\n      <th></th>\n      <th colspan=\"152\" halign=\"left\">2021</th>\n    </tr>\n    <tr>\n      <th></th>\n      <th colspan=\"30\" halign=\"left\">4</th>\n      <th colspan=\"31\" halign=\"left\">5</th>\n      <th colspan=\"30\" halign=\"left\">6</th>\n      <th colspan=\"31\" halign=\"left\">7</th>\n      <th colspan=\"30\" halign=\"left\">8</th>\n    </tr>\n    <tr>\n      <th></th>\n      <th>1</th>\n      <th>2</th>\n      <th>3</th>\n      <th>4</th>\n      <th>5</th>\n      <th>6</th>\n      <th>7</th>\n      <th>8</th>\n      <th>9</th>\n      <th>10</th>\n      <th>11</th>\n      <th>12</th>\n      <th>13</th>\n      <th>14</th>\n      <th>15</th>\n      <th>16</th>\n      <th>17</th>\n      <th>18</th>\n      <th>19</th>\n      <th>20</th>\n      <th>21</th>\n      <th>22</th>\n      <th>23</th>\n      <th>24</th>\n      <th>25</th>\n      <th>26</th>\n      <th>27</th>\n      <th>28</th>\n      <th>29</th>\n      <th>30</th>\n      <th>1</th>\n      <th>2</th>\n      <th>3</th>\n      <th>4</th>\n      <th>5</th>\n      <th>6</th>\n      <th>7</th>\n      <th>8</th>\n      <th>9</th>\n      <th>10</th>\n      <th>11</th>\n      <th>12</th>\n      <th>13</th>\n      <th>14</th>\n      <th>15</th>\n      <th>16</th>\n      <th>17</th>\n      <th>18</th>\n      <th>19</th>\n      <th>20</th>\n      <th>21</th>\n      <th>22</th>\n      <th>23</th>\n      <th>24</th>\n      <th>25</th>\n      <th>26</th>\n      <th>27</th>\n      <th>28</th>\n      <th>29</th>\n      <th>30</th>\n      <th>31</th>\n      <th>1</th>\n      <th>2</th>\n      <th>3</th>\n      <th>4</th>\n      <th>5</th>\n      <th>6</th>\n      <th>7</th>\n      <th>8</th>\n      <th>9</th>\n      <th>10</th>\n      <th>11</th>\n      <th>12</th>\n      <th>13</th>\n      <th>14</th>\n      <th>15</th>\n      <th>16</th>\n      <th>17</th>\n      <th>18</th>\n      <th>19</th>\n      <th>20</th>\n      <th>21</th>\n      <th>22</th>\n      <th>23</th>\n      <th>24</th>\n      <th>25</th>\n      <th>26</th>\n      <th>27</th>\n      <th>28</th>\n      <th>29</th>\n      <th>30</th>\n      <th>1</th>\n      <th>2</th>\n      <th>3</th>\n      <th>4</th>\n      <th>5</th>\n      <th>6</th>\n      <th>7</th>\n      <th>8</th>\n      <th>9</th>\n      <th>10</th>\n      <th>11</th>\n      <th>12</th>\n      <th>13</th>\n      <th>14</th>\n      <th>15</th>\n      <th>16</th>\n      <th>17</th>\n      <th>18</th>\n      <th>19</th>\n      <th>20</th>\n      <th>21</th>\n      <th>22</th>\n      <th>23</th>\n      <th>24</th>\n      <th>25</th>\n      <th>26</th>\n      <th>27</th>\n      <th>28</th>\n      <th>29</th>\n      <th>30</th>\n      <th>31</th>\n      <th>1</th>\n      <th>2</th>\n      <th>3</th>\n      <th>4</th>\n      <th>5</th>\n      <th>6</th>\n      <th>7</th>\n      <th>8</th>\n      <th>9</th>\n      <th>10</th>\n      <th>11</th>\n      <th>12</th>\n      <th>13</th>\n      <th>14</th>\n      <th>15</th>\n      <th>16</th>\n      <th>17</th>\n      <th>18</th>\n      <th>19</th>\n      <th>20</th>\n      <th>21</th>\n      <th>22</th>\n      <th>23</th>\n      <th>24</th>\n      <th>25</th>\n      <th>26</th>\n      <th>27</th>\n      <th>28</th>\n      <th>29</th>\n      <th>30</th>\n    </tr>\n  </thead>\n  <tbody>\n    <tr>\n      <th>プラントA</th>\n      <td>C</td>\n      <td>C</td>\n      <td>C</td>\n      <td>C</td>\n      <td>C</td>\n      <td>C</td>\n      <td>C</td>\n      <td>C</td>\n      <td>C</td>\n      <td>C</td>\n      <td></td>\n      <td></td>\n      <td></td>\n      <td></td>\n      <td></td>\n      <td></td>\n      <td></td>\n      <td></td>\n      <td></td>\n      <td></td>\n      <td></td>\n      <td></td>\n      <td></td>\n      <td></td>\n      <td></td>\n      <td></td>\n      <td></td>\n      <td></td>\n      <td></td>\n      <td></td>\n      <td></td>\n      <td></td>\n      <td></td>\n      <td></td>\n      <td></td>\n      <td></td>\n      <td></td>\n      <td></td>\n      <td></td>\n      <td></td>\n      <td></td>\n      <td></td>\n      <td></td>\n      <td></td>\n      <td>T</td>\n      <td>T</td>\n      <td>T</td>\n      <td>T</td>\n      <td>T</td>\n      <td>T</td>\n      <td>T</td>\n      <td>T</td>\n      <td>T</td>\n      <td>T</td>\n      <td>T</td>\n      <td>T</td>\n      <td>T</td>\n      <td>T</td>\n      <td>T</td>\n      <td>T</td>\n      <td>T</td>\n      <td>T</td>\n      <td></td>\n      <td></td>\n      <td></td>\n      <td></td>\n      <td></td>\n      <td></td>\n      <td></td>\n      <td></td>\n      <td></td>\n      <td></td>\n      <td></td>\n      <td></td>\n      <td></td>\n      <td></td>\n      <td></td>\n      <td></td>\n      <td></td>\n      <td></td>\n      <td></td>\n      <td></td>\n      <td></td>\n      <td></td>\n      <td></td>\n      <td></td>\n      <td></td>\n      <td></td>\n      <td></td>\n      <td></td>\n      <td></td>\n      <td>M</td>\n      <td>M</td>\n      <td>M</td>\n      <td>M</td>\n      <td>M</td>\n      <td>M</td>\n      <td>M</td>\n      <td>M</td>\n      <td>M</td>\n      <td>M</td>\n      <td>M</td>\n      <td>M</td>\n      <td>M</td>\n      <td>M</td>\n      <td>M</td>\n      <td>M</td>\n      <td>M</td>\n      <td>M</td>\n      <td>M</td>\n      <td>M</td>\n      <td>M</td>\n      <td>M</td>\n      <td>M</td>\n      <td>M</td>\n      <td>M</td>\n      <td>M</td>\n      <td>M</td>\n      <td>M</td>\n      <td>M</td>\n      <td>M</td>\n      <td></td>\n      <td></td>\n      <td></td>\n      <td></td>\n      <td></td>\n      <td></td>\n      <td></td>\n      <td></td>\n      <td></td>\n      <td></td>\n      <td></td>\n      <td></td>\n      <td></td>\n      <td></td>\n      <td></td>\n      <td></td>\n      <td></td>\n      <td></td>\n      <td></td>\n      <td></td>\n      <td></td>\n      <td></td>\n      <td></td>\n      <td></td>\n      <td></td>\n      <td></td>\n      <td></td>\n      <td></td>\n      <td></td>\n      <td></td>\n      <td></td>\n    </tr>\n    <tr>\n      <th>プラントB</th>\n      <td></td>\n      <td></td>\n      <td></td>\n      <td></td>\n      <td></td>\n      <td></td>\n      <td></td>\n      <td></td>\n      <td></td>\n      <td></td>\n      <td>T</td>\n      <td>T</td>\n      <td>T</td>\n      <td>T</td>\n      <td>T</td>\n      <td>T</td>\n      <td>T</td>\n      <td>T</td>\n      <td>T</td>\n      <td>T</td>\n      <td>T</td>\n      <td>T</td>\n      <td>T</td>\n      <td>T</td>\n      <td>T</td>\n      <td>T</td>\n      <td>T</td>\n      <td>T</td>\n      <td>T</td>\n      <td></td>\n      <td></td>\n      <td></td>\n      <td></td>\n      <td></td>\n      <td></td>\n      <td></td>\n      <td></td>\n      <td></td>\n      <td></td>\n      <td></td>\n      <td></td>\n      <td></td>\n      <td></td>\n      <td></td>\n      <td></td>\n      <td></td>\n      <td></td>\n      <td></td>\n      <td></td>\n      <td></td>\n      <td>C</td>\n      <td>C</td>\n      <td>C</td>\n      <td>C</td>\n      <td>C</td>\n      <td>C</td>\n      <td>C</td>\n      <td>C</td>\n      <td>C</td>\n      <td>C</td>\n      <td>C</td>\n      <td>C</td>\n      <td>C</td>\n      <td>C</td>\n      <td>C</td>\n      <td>C</td>\n      <td>C</td>\n      <td>C</td>\n      <td>C</td>\n      <td>C</td>\n      <td>C</td>\n      <td></td>\n      <td></td>\n      <td></td>\n      <td></td>\n      <td></td>\n      <td></td>\n      <td></td>\n      <td></td>\n      <td></td>\n      <td></td>\n      <td></td>\n      <td></td>\n      <td></td>\n      <td></td>\n      <td></td>\n      <td></td>\n      <td></td>\n      <td></td>\n      <td></td>\n      <td></td>\n      <td></td>\n      <td></td>\n      <td></td>\n      <td></td>\n      <td></td>\n      <td></td>\n      <td></td>\n      <td></td>\n      <td></td>\n      <td>M</td>\n      <td>M</td>\n      <td>M</td>\n      <td>M</td>\n      <td>M</td>\n      <td>M</td>\n      <td>M</td>\n      <td>M</td>\n      <td>M</td>\n      <td>M</td>\n      <td>M</td>\n      <td>M</td>\n      <td>M</td>\n      <td>M</td>\n      <td>M</td>\n      <td>M</td>\n      <td>M</td>\n      <td>M</td>\n      <td>M</td>\n      <td>M</td>\n      <td>M</td>\n      <td>M</td>\n      <td>M</td>\n      <td>M</td>\n      <td>M</td>\n      <td>M</td>\n      <td>M</td>\n      <td>M</td>\n      <td>M</td>\n      <td>M</td>\n      <td>M</td>\n      <td>M</td>\n      <td></td>\n      <td></td>\n      <td></td>\n      <td></td>\n      <td></td>\n      <td></td>\n      <td></td>\n      <td></td>\n      <td></td>\n      <td>M</td>\n      <td>M</td>\n      <td>M</td>\n      <td>M</td>\n      <td>M</td>\n      <td>M</td>\n      <td>M</td>\n      <td>M</td>\n      <td>M</td>\n      <td>M</td>\n      <td>M</td>\n    </tr>\n    <tr>\n      <th>プラントC</th>\n      <td></td>\n      <td></td>\n      <td></td>\n      <td></td>\n      <td></td>\n      <td></td>\n      <td></td>\n      <td></td>\n      <td></td>\n      <td></td>\n      <td></td>\n      <td></td>\n      <td></td>\n      <td></td>\n      <td></td>\n      <td></td>\n      <td></td>\n      <td></td>\n      <td></td>\n      <td></td>\n      <td></td>\n      <td></td>\n      <td></td>\n      <td></td>\n      <td></td>\n      <td></td>\n      <td></td>\n      <td></td>\n      <td></td>\n      <td></td>\n      <td></td>\n      <td></td>\n      <td></td>\n      <td></td>\n      <td></td>\n      <td></td>\n      <td></td>\n      <td></td>\n      <td></td>\n      <td></td>\n      <td></td>\n      <td></td>\n      <td></td>\n      <td></td>\n      <td></td>\n      <td></td>\n      <td></td>\n      <td></td>\n      <td></td>\n      <td></td>\n      <td></td>\n      <td></td>\n      <td></td>\n      <td></td>\n      <td></td>\n      <td></td>\n      <td></td>\n      <td></td>\n      <td></td>\n      <td></td>\n      <td></td>\n      <td></td>\n      <td></td>\n      <td></td>\n      <td></td>\n      <td></td>\n      <td></td>\n      <td></td>\n      <td></td>\n      <td></td>\n      <td></td>\n      <td></td>\n      <td></td>\n      <td></td>\n      <td></td>\n      <td>T</td>\n      <td>T</td>\n      <td>T</td>\n      <td>T</td>\n      <td>T</td>\n      <td>T</td>\n      <td>T</td>\n      <td>T</td>\n      <td>T</td>\n      <td>T</td>\n      <td>T</td>\n      <td>T</td>\n      <td>T</td>\n      <td>T</td>\n      <td>T</td>\n      <td>T</td>\n      <td></td>\n      <td></td>\n      <td></td>\n      <td></td>\n      <td></td>\n      <td></td>\n      <td></td>\n      <td></td>\n      <td></td>\n      <td></td>\n      <td></td>\n      <td></td>\n      <td></td>\n      <td></td>\n      <td></td>\n      <td></td>\n      <td></td>\n      <td></td>\n      <td></td>\n      <td></td>\n      <td></td>\n      <td></td>\n      <td></td>\n      <td></td>\n      <td></td>\n      <td></td>\n      <td></td>\n      <td></td>\n      <td></td>\n      <td></td>\n      <td></td>\n      <td>C</td>\n      <td>C</td>\n      <td>C</td>\n      <td>C</td>\n      <td>C</td>\n      <td>C</td>\n      <td>C</td>\n      <td>C</td>\n      <td>C</td>\n      <td>C</td>\n      <td></td>\n      <td></td>\n      <td></td>\n      <td></td>\n      <td></td>\n      <td></td>\n      <td></td>\n      <td></td>\n      <td></td>\n      <td></td>\n      <td></td>\n      <td></td>\n      <td></td>\n      <td></td>\n      <td></td>\n      <td></td>\n      <td></td>\n      <td></td>\n      <td></td>\n      <td></td>\n    </tr>\n    <tr>\n      <th>プラントD</th>\n      <td></td>\n      <td></td>\n      <td></td>\n      <td></td>\n      <td></td>\n      <td></td>\n      <td></td>\n      <td></td>\n      <td></td>\n      <td></td>\n      <td></td>\n      <td></td>\n      <td></td>\n      <td></td>\n      <td>M</td>\n      <td>M</td>\n      <td>M</td>\n      <td>M</td>\n      <td>M</td>\n      <td>M</td>\n      <td>M</td>\n      <td>M</td>\n      <td>M</td>\n      <td>M</td>\n      <td>M</td>\n      <td>M</td>\n      <td>M</td>\n      <td>M</td>\n      <td>M</td>\n      <td>M</td>\n      <td>M</td>\n      <td>M</td>\n      <td>M</td>\n      <td>M</td>\n      <td>M</td>\n      <td>M</td>\n      <td>M</td>\n      <td>M</td>\n      <td>M</td>\n      <td>M</td>\n      <td>M</td>\n      <td>M</td>\n      <td>M</td>\n      <td>M</td>\n      <td>M</td>\n      <td>M</td>\n      <td>M</td>\n      <td>M</td>\n      <td>M</td>\n      <td>M</td>\n      <td>M</td>\n      <td>M</td>\n      <td>M</td>\n      <td>M</td>\n      <td>M</td>\n      <td>M</td>\n      <td>M</td>\n      <td>M</td>\n      <td>M</td>\n      <td>M</td>\n      <td>M</td>\n      <td>M</td>\n      <td>M</td>\n      <td>M</td>\n      <td>M</td>\n      <td>M</td>\n      <td>M</td>\n      <td>M</td>\n      <td>M</td>\n      <td>M</td>\n      <td>M</td>\n      <td>M</td>\n      <td>M</td>\n      <td>M</td>\n      <td>M</td>\n      <td>M</td>\n      <td>M</td>\n      <td>M</td>\n      <td>M</td>\n      <td>M</td>\n      <td>M</td>\n      <td></td>\n      <td></td>\n      <td></td>\n      <td></td>\n      <td></td>\n      <td></td>\n      <td></td>\n      <td></td>\n      <td></td>\n      <td></td>\n      <td>T</td>\n      <td>T</td>\n      <td>T</td>\n      <td>T</td>\n      <td>T</td>\n      <td>T</td>\n      <td>T</td>\n      <td>T</td>\n      <td>T</td>\n      <td>T</td>\n      <td>T</td>\n      <td>T</td>\n      <td>T</td>\n      <td>T</td>\n      <td>T</td>\n      <td>T</td>\n      <td>T</td>\n      <td>T</td>\n      <td>T</td>\n      <td>T</td>\n      <td>T</td>\n      <td>T</td>\n      <td>T</td>\n      <td>T</td>\n      <td>T</td>\n      <td>T</td>\n      <td>T</td>\n      <td>T</td>\n      <td>T</td>\n      <td>T</td>\n      <td>T</td>\n      <td>T</td>\n      <td>T</td>\n      <td>T</td>\n      <td>T</td>\n      <td>T</td>\n      <td>T</td>\n      <td>T</td>\n      <td>T</td>\n      <td>T</td>\n      <td>T</td>\n      <td></td>\n      <td></td>\n      <td></td>\n      <td></td>\n      <td></td>\n      <td></td>\n      <td></td>\n      <td></td>\n      <td></td>\n      <td></td>\n      <td></td>\n      <td></td>\n      <td></td>\n      <td></td>\n      <td></td>\n      <td></td>\n      <td></td>\n      <td></td>\n      <td></td>\n      <td></td>\n    </tr>\n  </tbody>\n</table>\n</div>"
     },
     "metadata": {},
     "execution_count": 7
    }
   ],
   "source": [
    "index = pd.date_range(df.index.min(), df.index.max())\n",
    "result = pd.DataFrame(index=index)\n",
    "result = pd.merge(result, df, left_index=True, right_index=True, how='outer').T.fillna('')\n",
    "\n",
    "new_col_year, new_col_month, new_col_day = [], [], []\n",
    "for c in result.columns:\n",
    "    new_col_year.append(c.year)\n",
    "    new_col_month.append(c.month)\n",
    "    new_col_day.append(c.day)\n",
    "result.columns = [new_col_year, new_col_month, new_col_day]\n",
    "result"
   ]
  }
 ]
}